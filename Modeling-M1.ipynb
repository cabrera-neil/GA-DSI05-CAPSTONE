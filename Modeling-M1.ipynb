{
 "cells": [
  {
   "cell_type": "code",
   "execution_count": 1,
   "metadata": {},
   "outputs": [],
   "source": [
    "import pandas as pd\n",
    "import numpy as np\n",
    "import matplotlib.pyplot as plt\n",
    "import seaborn as sns\n",
    "import re\n",
    "import pickle\n",
    "\n",
    "from imblearn.under_sampling import TomekLinks\n",
    "from imblearn.over_sampling import ADASYN, SMOTE\n",
    "\n",
    "from sklearn.model_selection import train_test_split\n",
    "from sklearn.feature_extraction.text import TfidfVectorizer\n",
    "from sklearn.ensemble import RandomForestClassifier\n",
    "from sklearn.metrics import accuracy_score, precision_score, recall_score, confusion_matrix, classification_report"
   ]
  },
  {
   "cell_type": "code",
   "execution_count": 2,
   "metadata": {},
   "outputs": [],
   "source": [
    "# Load the saved dataframe for modeling purposes\n",
    "df_post_eda = pd.read_csv('loan_post_eda.csv', low_memory=False)"
   ]
  },
  {
   "cell_type": "code",
   "execution_count": 3,
   "metadata": {},
   "outputs": [],
   "source": [
    "# Split the Features into Numerical and Non Numerical for charting purposes\n",
    "features_numerical = list(df_post_eda.dtypes[df_post_eda.dtypes != 'object'].index)\n",
    "\n",
    "features_nonnumerc = list(df_post_eda.dtypes[df_post_eda.dtypes == 'object'].index)\n",
    "features_nonnumerc.remove('title')\n",
    "features_nonnumerc.remove('emp_title')\n",
    "features_nonnumerc.remove('desc')\n",
    "features_nonnumerc.remove('loan_status')\n",
    "\n",
    "features_nlp = ['title', 'emp_title', 'desc']"
   ]
  },
  {
   "cell_type": "markdown",
   "metadata": {},
   "source": [
    "# Model 1 - Fully Paid vs Risky Loans (Late, Charged Off/Default)"
   ]
  },
  {
   "cell_type": "code",
   "execution_count": 4,
   "metadata": {},
   "outputs": [],
   "source": [
    "# Model 1 Parameters\n",
    "TEST_SIZE = 0.25 \n",
    "RANDOM_STATE = 42\n",
    "N_JOBS = -1\n",
    "N_ESTIMATORS = 200"
   ]
  },
  {
   "cell_type": "code",
   "execution_count": 5,
   "metadata": {},
   "outputs": [
    {
     "data": {
      "text/plain": [
       "Fully Paid            52124\n",
       "Charged Off           11106\n",
       "Late (31-120 days)     2902\n",
       "Default                 314\n",
       "Name: loan_status, dtype: int64"
      ]
     },
     "execution_count": 5,
     "metadata": {},
     "output_type": "execute_result"
    }
   ],
   "source": [
    "# Split the newly combined data frame\n",
    "df_train, df_test = train_test_split(df_post_eda, test_size=TEST_SIZE, random_state=RANDOM_STATE)\n",
    "\n",
    "# x train and test to be defined separately\n",
    "# Set the target variable against all other statuses\n",
    "y_train = np.where(df_train['loan_status'] == 'Fully Paid', 0, 1)\n",
    "y_test = np.where(df_test['loan_status'] == 'Fully Paid', 0, 1)\n",
    "\n",
    "df_test['loan_status'].value_counts()"
   ]
  },
  {
   "cell_type": "code",
   "execution_count": 6,
   "metadata": {},
   "outputs": [
    {
     "data": {
      "text/plain": [
       "Fully Paid            155599\n",
       "Charged Off            34142\n",
       "Late (31-120 days)      8689\n",
       "Default                  905\n",
       "Name: loan_status, dtype: int64"
      ]
     },
     "execution_count": 6,
     "metadata": {},
     "output_type": "execute_result"
    }
   ],
   "source": [
    "df_train['loan_status'].value_counts()"
   ]
  },
  {
   "cell_type": "markdown",
   "metadata": {},
   "source": [
    "## Model 1.1 - Numerical Features"
   ]
  },
  {
   "cell_type": "code",
   "execution_count": 7,
   "metadata": {},
   "outputs": [],
   "source": [
    "x_train_m11 = df_train[features_numerical]\n",
    "y_train_m11 = y_train\n",
    "\n",
    "x_test_m11 = df_test[features_numerical]\n",
    "y_test_m11 = y_test"
   ]
  },
  {
   "cell_type": "code",
   "execution_count": 8,
   "metadata": {},
   "outputs": [],
   "source": [
    "rfcm11 = RandomForestClassifier(n_estimators=N_ESTIMATORS, random_state=RANDOM_STATE, n_jobs=N_JOBS)"
   ]
  },
  {
   "cell_type": "code",
   "execution_count": 9,
   "metadata": {},
   "outputs": [
    {
     "data": {
      "text/plain": [
       "0.9971254853565301"
      ]
     },
     "execution_count": 9,
     "metadata": {},
     "output_type": "execute_result"
    }
   ],
   "source": [
    "rfcm11.fit(x_train_m11, y_train_m11)\n",
    "rfcm11.score(x_test_m11, y_test_m11)"
   ]
  },
  {
   "cell_type": "code",
   "execution_count": 10,
   "metadata": {},
   "outputs": [],
   "source": [
    "y_pred_m11 = rfcm11.predict_proba(x_test_m11)"
   ]
  },
  {
   "cell_type": "code",
   "execution_count": 11,
   "metadata": {},
   "outputs": [
    {
     "data": {
      "text/plain": [
       "array([[14133,   189],\n",
       "       [    2, 52122]], dtype=int64)"
      ]
     },
     "execution_count": 11,
     "metadata": {},
     "output_type": "execute_result"
    }
   ],
   "source": [
    "confusion_matrix(y_test_m11, rfcm11.predict(x_test_m11), labels=[1,0])"
   ]
  },
  {
   "cell_type": "code",
   "execution_count": 12,
   "metadata": {
    "scrolled": false
   },
   "outputs": [
    {
     "name": "stdout",
     "output_type": "stream",
     "text": [
      "              precision    recall  f1-score   support\n",
      "\n",
      "           0       1.00      1.00      1.00     52124\n",
      "           1       1.00      0.99      0.99     14322\n",
      "\n",
      "   micro avg       1.00      1.00      1.00     66446\n",
      "   macro avg       1.00      0.99      1.00     66446\n",
      "weighted avg       1.00      1.00      1.00     66446\n",
      "\n"
     ]
    }
   ],
   "source": [
    "print(classification_report(y_test_m11, rfcm11.predict(x_test_m11)))"
   ]
  },
  {
   "cell_type": "markdown",
   "metadata": {},
   "source": [
    "## Model 1.2 - Non-Numerical Features"
   ]
  },
  {
   "cell_type": "code",
   "execution_count": 13,
   "metadata": {},
   "outputs": [],
   "source": [
    "df_m12 = df_post_eda[features_nonnumerc]\n",
    "df_m12 = pd.get_dummies(df_m12)"
   ]
  },
  {
   "cell_type": "code",
   "execution_count": 14,
   "metadata": {},
   "outputs": [],
   "source": [
    "# Split the newly combined data frame\n",
    "df_train_m12, df_test_m12 = train_test_split(df_m12, test_size=TEST_SIZE, random_state=RANDOM_STATE)"
   ]
  },
  {
   "cell_type": "code",
   "execution_count": 15,
   "metadata": {},
   "outputs": [],
   "source": [
    "x_train_m12 = df_train_m12\n",
    "y_train_m12 = y_train\n",
    "\n",
    "x_test_m12 = df_test_m12\n",
    "y_test_m12 = y_test"
   ]
  },
  {
   "cell_type": "code",
   "execution_count": 16,
   "metadata": {},
   "outputs": [],
   "source": [
    "# Undersample the Majority\n",
    "from imblearn.under_sampling import TomekLinks\n",
    "t12 = TomekLinks(ratio='majority', random_state=RANDOM_STATE, n_jobs=N_JOBS)"
   ]
  },
  {
   "cell_type": "code",
   "execution_count": 17,
   "metadata": {},
   "outputs": [],
   "source": [
    "x_train12_tl, y_train12_tl = t12.fit_sample(x_train_m12, y_train_m12)"
   ]
  },
  {
   "cell_type": "code",
   "execution_count": 18,
   "metadata": {},
   "outputs": [],
   "source": [
    "# Oversample the Minority\n",
    "from imblearn.over_sampling import ADASYN\n",
    "ads12 = ADASYN(ratio='minority', random_state=RANDOM_STATE, n_jobs=N_JOBS)"
   ]
  },
  {
   "cell_type": "code",
   "execution_count": 19,
   "metadata": {},
   "outputs": [],
   "source": [
    "x_train12_ads, y_train12_ads = ads12.fit_sample(x_train12_tl, y_train12_tl)"
   ]
  },
  {
   "cell_type": "code",
   "execution_count": 20,
   "metadata": {},
   "outputs": [],
   "source": [
    "x_train_m12 = x_train12_ads\n",
    "y_train_m12 = y_train12_ads"
   ]
  },
  {
   "cell_type": "code",
   "execution_count": 21,
   "metadata": {},
   "outputs": [],
   "source": [
    "rfcm12 = RandomForestClassifier(n_estimators=N_ESTIMATORS, random_state=RANDOM_STATE, n_jobs=N_JOBS)"
   ]
  },
  {
   "cell_type": "code",
   "execution_count": 22,
   "metadata": {},
   "outputs": [
    {
     "data": {
      "text/plain": [
       "0.6466303464467387"
      ]
     },
     "execution_count": 22,
     "metadata": {},
     "output_type": "execute_result"
    }
   ],
   "source": [
    "rfcm12.fit(x_train_m12, y_train_m12)\n",
    "rfcm12.score(x_test_m12, y_test_m12)"
   ]
  },
  {
   "cell_type": "code",
   "execution_count": 23,
   "metadata": {},
   "outputs": [],
   "source": [
    "y_pred_m12 = rfcm12.predict_proba(x_test_m12)"
   ]
  },
  {
   "cell_type": "code",
   "execution_count": 24,
   "metadata": {},
   "outputs": [
    {
     "data": {
      "text/plain": [
       "array([[ 7141,  7181],\n",
       "       [16299, 35825]], dtype=int64)"
      ]
     },
     "execution_count": 24,
     "metadata": {},
     "output_type": "execute_result"
    }
   ],
   "source": [
    "confusion_matrix(y_test, rfcm12.predict(x_test_m12), labels=[1,0])"
   ]
  },
  {
   "cell_type": "code",
   "execution_count": 25,
   "metadata": {
    "scrolled": true
   },
   "outputs": [
    {
     "name": "stdout",
     "output_type": "stream",
     "text": [
      "              precision    recall  f1-score   support\n",
      "\n",
      "           0       0.83      0.69      0.75     52124\n",
      "           1       0.30      0.50      0.38     14322\n",
      "\n",
      "   micro avg       0.65      0.65      0.65     66446\n",
      "   macro avg       0.57      0.59      0.57     66446\n",
      "weighted avg       0.72      0.65      0.67     66446\n",
      "\n"
     ]
    }
   ],
   "source": [
    "print(classification_report(y_test_m12, rfcm12.predict(x_test_m12)))"
   ]
  },
  {
   "cell_type": "markdown",
   "metadata": {},
   "source": [
    "## Model 1.3 - NLP, Loan Title"
   ]
  },
  {
   "cell_type": "code",
   "execution_count": 26,
   "metadata": {},
   "outputs": [],
   "source": [
    "#tv = TfidfVectorizer(stop_words='english', ngram_range=(2,2), lowercase=True)\n",
    "#x_train_m13 = tv.fit_transform(df_train['title'])\n",
    "#y_train_m13 = y_train\n",
    "#\n",
    "#x_test_m13 = tv.transform(df_test['title'])\n",
    "#y_test_m13 = y_test"
   ]
  },
  {
   "cell_type": "code",
   "execution_count": 62,
   "metadata": {},
   "outputs": [],
   "source": [
    "tv13 = TfidfVectorizer(stop_words='english', ngram_range=(2,2), lowercase=True)\n",
    "x_train_m13 = tv13.fit_transform(df_train['title'])\n",
    "y_train_m13 = y_train\n",
    "\n",
    "x_test_m13 = tv13.transform(df_test['title'])\n",
    "y_test_m13 = y_test"
   ]
  },
  {
   "cell_type": "code",
   "execution_count": 27,
   "metadata": {},
   "outputs": [
    {
     "data": {
      "text/plain": [
       "0.7801824037564338"
      ]
     },
     "execution_count": 27,
     "metadata": {},
     "output_type": "execute_result"
    }
   ],
   "source": [
    "rfcm13 = RandomForestClassifier(n_estimators=N_ESTIMATORS, random_state=RANDOM_STATE, n_jobs=N_JOBS)\n",
    "rfcm13.fit(x_train_m13, y_train_m13)\n",
    "rfcm13.score(x_test_m13, y_test_m13)"
   ]
  },
  {
   "cell_type": "code",
   "execution_count": 28,
   "metadata": {},
   "outputs": [],
   "source": [
    "y_pred_m13 = rfcm13.predict_proba(x_test_m13)"
   ]
  },
  {
   "cell_type": "code",
   "execution_count": 29,
   "metadata": {},
   "outputs": [
    {
     "data": {
      "text/plain": [
       "array([[   85, 14237],\n",
       "       [  369, 51755]], dtype=int64)"
      ]
     },
     "execution_count": 29,
     "metadata": {},
     "output_type": "execute_result"
    }
   ],
   "source": [
    "confusion_matrix(y_test_m13, rfcm13.predict(x_test_m13), labels=[1,0])"
   ]
  },
  {
   "cell_type": "code",
   "execution_count": 30,
   "metadata": {
    "scrolled": true
   },
   "outputs": [
    {
     "name": "stdout",
     "output_type": "stream",
     "text": [
      "              precision    recall  f1-score   support\n",
      "\n",
      "           0       0.78      0.99      0.88     52124\n",
      "           1       0.19      0.01      0.01     14322\n",
      "\n",
      "   micro avg       0.78      0.78      0.78     66446\n",
      "   macro avg       0.49      0.50      0.44     66446\n",
      "weighted avg       0.66      0.78      0.69     66446\n",
      "\n"
     ]
    }
   ],
   "source": [
    "print(classification_report(y_test_m13, rfcm13.predict(x_test_m13)))"
   ]
  },
  {
   "cell_type": "markdown",
   "metadata": {},
   "source": [
    "## Model 1.4 - NLP, Loan Description"
   ]
  },
  {
   "cell_type": "code",
   "execution_count": 64,
   "metadata": {
    "scrolled": true
   },
   "outputs": [],
   "source": [
    "#df_train['desc'] = df_train['desc'].map(lambda x: re.sub('\\n', ' ', x))\n",
    "#df_train['desc'] = df_train['desc'].map(lambda x: re.sub('br', ' ', x))\n",
    "#df_train['desc'] = df_train['desc'].map(lambda x: re.sub('[^A-Za-z]+', ' ', x))\n",
    "#\n",
    "#df_test['desc'] = df_test['desc'].map(lambda x: re.sub('\\n', ' ', x))\n",
    "#df_test['desc'] = df_test['desc'].map(lambda x: re.sub('br', ' ', x))\n",
    "#df_test['desc'] = df_test['desc'].map(lambda x: re.sub('[^A-Za-z]+', ' ', x))\n",
    "#\n",
    "#tv = TfidfVectorizer(stop_words='english', ngram_range=(1,2), lowercase=True)\n",
    "#x_train_m14 = tv.fit_transform(df_train['desc'])\n",
    "#x_test_m14 = tv.transform(df_test['desc'])\n",
    "#\n",
    "#y_train_m14 = y_train\n",
    "#y_test_m14 = y_test"
   ]
  },
  {
   "cell_type": "code",
   "execution_count": 65,
   "metadata": {},
   "outputs": [
    {
     "name": "stderr",
     "output_type": "stream",
     "text": [
      "C:\\Users\\cabre\\Anaconda3\\lib\\site-packages\\ipykernel_launcher.py:1: SettingWithCopyWarning: \n",
      "A value is trying to be set on a copy of a slice from a DataFrame.\n",
      "Try using .loc[row_indexer,col_indexer] = value instead\n",
      "\n",
      "See the caveats in the documentation: http://pandas.pydata.org/pandas-docs/stable/indexing.html#indexing-view-versus-copy\n",
      "  \"\"\"Entry point for launching an IPython kernel.\n",
      "C:\\Users\\cabre\\Anaconda3\\lib\\site-packages\\ipykernel_launcher.py:2: SettingWithCopyWarning: \n",
      "A value is trying to be set on a copy of a slice from a DataFrame.\n",
      "Try using .loc[row_indexer,col_indexer] = value instead\n",
      "\n",
      "See the caveats in the documentation: http://pandas.pydata.org/pandas-docs/stable/indexing.html#indexing-view-versus-copy\n",
      "  \n",
      "C:\\Users\\cabre\\Anaconda3\\lib\\site-packages\\ipykernel_launcher.py:3: SettingWithCopyWarning: \n",
      "A value is trying to be set on a copy of a slice from a DataFrame.\n",
      "Try using .loc[row_indexer,col_indexer] = value instead\n",
      "\n",
      "See the caveats in the documentation: http://pandas.pydata.org/pandas-docs/stable/indexing.html#indexing-view-versus-copy\n",
      "  This is separate from the ipykernel package so we can avoid doing imports until\n",
      "C:\\Users\\cabre\\Anaconda3\\lib\\site-packages\\ipykernel_launcher.py:5: SettingWithCopyWarning: \n",
      "A value is trying to be set on a copy of a slice from a DataFrame.\n",
      "Try using .loc[row_indexer,col_indexer] = value instead\n",
      "\n",
      "See the caveats in the documentation: http://pandas.pydata.org/pandas-docs/stable/indexing.html#indexing-view-versus-copy\n",
      "  \"\"\"\n",
      "C:\\Users\\cabre\\Anaconda3\\lib\\site-packages\\ipykernel_launcher.py:6: SettingWithCopyWarning: \n",
      "A value is trying to be set on a copy of a slice from a DataFrame.\n",
      "Try using .loc[row_indexer,col_indexer] = value instead\n",
      "\n",
      "See the caveats in the documentation: http://pandas.pydata.org/pandas-docs/stable/indexing.html#indexing-view-versus-copy\n",
      "  \n",
      "C:\\Users\\cabre\\Anaconda3\\lib\\site-packages\\ipykernel_launcher.py:7: SettingWithCopyWarning: \n",
      "A value is trying to be set on a copy of a slice from a DataFrame.\n",
      "Try using .loc[row_indexer,col_indexer] = value instead\n",
      "\n",
      "See the caveats in the documentation: http://pandas.pydata.org/pandas-docs/stable/indexing.html#indexing-view-versus-copy\n",
      "  import sys\n"
     ]
    }
   ],
   "source": [
    "df_train['desc'] = df_train['desc'].map(lambda x: re.sub('\\n', ' ', x))\n",
    "df_train['desc'] = df_train['desc'].map(lambda x: re.sub('br', ' ', x))\n",
    "df_train['desc'] = df_train['desc'].map(lambda x: re.sub('[^A-Za-z]+', ' ', x))\n",
    "\n",
    "df_test['desc'] = df_test['desc'].map(lambda x: re.sub('\\n', ' ', x))\n",
    "df_test['desc'] = df_test['desc'].map(lambda x: re.sub('br', ' ', x))\n",
    "df_test['desc'] = df_test['desc'].map(lambda x: re.sub('[^A-Za-z]+', ' ', x))\n",
    "\n",
    "tv14 = TfidfVectorizer(stop_words='english', ngram_range=(1,2), lowercase=True)\n",
    "x_train_m14 = tv14.fit_transform(df_train['desc'])\n",
    "x_test_m14 = tv14.transform(df_test['desc'])\n",
    "\n",
    "y_train_m14 = y_train\n",
    "y_test_m14 = y_test"
   ]
  },
  {
   "cell_type": "code",
   "execution_count": 32,
   "metadata": {},
   "outputs": [
    {
     "data": {
      "text/plain": [
       "0.7832224663636638"
      ]
     },
     "execution_count": 32,
     "metadata": {},
     "output_type": "execute_result"
    }
   ],
   "source": [
    "rfcm14 = RandomForestClassifier(n_estimators=N_ESTIMATORS, random_state=RANDOM_STATE, n_jobs=N_JOBS)\n",
    "rfcm14.fit(x_train_m14, y_train_m14)\n",
    "rfcm14.score(x_test_m14, y_test_m14)"
   ]
  },
  {
   "cell_type": "code",
   "execution_count": 33,
   "metadata": {},
   "outputs": [],
   "source": [
    "y_pred_m14 = rfcm14.predict_proba(x_test_m14)"
   ]
  },
  {
   "cell_type": "code",
   "execution_count": 34,
   "metadata": {},
   "outputs": [
    {
     "data": {
      "text/plain": [
       "array([[   38, 14284],\n",
       "       [  120, 52004]], dtype=int64)"
      ]
     },
     "execution_count": 34,
     "metadata": {},
     "output_type": "execute_result"
    }
   ],
   "source": [
    "confusion_matrix(y_test_m14, rfcm14.predict(x_test_m14), labels=[1,0])"
   ]
  },
  {
   "cell_type": "code",
   "execution_count": 35,
   "metadata": {
    "scrolled": true
   },
   "outputs": [
    {
     "name": "stdout",
     "output_type": "stream",
     "text": [
      "              precision    recall  f1-score   support\n",
      "\n",
      "           0       0.78      1.00      0.88     52124\n",
      "           1       0.24      0.00      0.01     14322\n",
      "\n",
      "   micro avg       0.78      0.78      0.78     66446\n",
      "   macro avg       0.51      0.50      0.44     66446\n",
      "weighted avg       0.67      0.78      0.69     66446\n",
      "\n"
     ]
    }
   ],
   "source": [
    "print(classification_report(y_test_m14, rfcm14.predict(x_test_m14)))"
   ]
  },
  {
   "cell_type": "markdown",
   "metadata": {},
   "source": [
    "## Model 1.5 - NLP, Employee Title"
   ]
  },
  {
   "cell_type": "code",
   "execution_count": 66,
   "metadata": {},
   "outputs": [],
   "source": [
    "#tv = TfidfVectorizer(stop_words='english', ngram_range=(2,2), lowercase=True)\n",
    "#x_train_m15 = tv.fit_transform(df_train['emp_title'])\n",
    "#y_train_m15 = y_train\n",
    "#\n",
    "#x_test_m15 = tv.transform(df_test['emp_title'])\n",
    "#y_test_m15 = y_test"
   ]
  },
  {
   "cell_type": "code",
   "execution_count": 67,
   "metadata": {},
   "outputs": [],
   "source": [
    "tv15 = TfidfVectorizer(stop_words='english', ngram_range=(2,2), lowercase=True)\n",
    "x_train_m15 = tv15.fit_transform(df_train['emp_title'])\n",
    "y_train_m15 = y_train\n",
    "\n",
    "x_test_m15 = tv15.transform(df_test['emp_title'])\n",
    "y_test_m15 = y_test"
   ]
  },
  {
   "cell_type": "code",
   "execution_count": 37,
   "metadata": {},
   "outputs": [
    {
     "data": {
      "text/plain": [
       "0.7668783673960811"
      ]
     },
     "execution_count": 37,
     "metadata": {},
     "output_type": "execute_result"
    }
   ],
   "source": [
    "rfcm15 = RandomForestClassifier(n_estimators=N_ESTIMATORS, random_state=RANDOM_STATE, n_jobs=N_JOBS)\n",
    "rfcm15.fit(x_train_m15, y_train_m15)\n",
    "rfcm15.score(x_test_m15, y_test_m15)"
   ]
  },
  {
   "cell_type": "code",
   "execution_count": 38,
   "metadata": {},
   "outputs": [],
   "source": [
    "y_pred_m15 = rfcm15.predict_proba(x_test_m15)"
   ]
  },
  {
   "cell_type": "code",
   "execution_count": 39,
   "metadata": {},
   "outputs": [
    {
     "data": {
      "text/plain": [
       "array([[  700, 13622],\n",
       "       [ 1868, 50256]], dtype=int64)"
      ]
     },
     "execution_count": 39,
     "metadata": {},
     "output_type": "execute_result"
    }
   ],
   "source": [
    "confusion_matrix(y_test_m15, rfcm15.predict(x_test_m15), labels=[1,0])"
   ]
  },
  {
   "cell_type": "code",
   "execution_count": 40,
   "metadata": {
    "scrolled": true
   },
   "outputs": [
    {
     "name": "stdout",
     "output_type": "stream",
     "text": [
      "              precision    recall  f1-score   support\n",
      "\n",
      "           0       0.79      0.96      0.87     52124\n",
      "           1       0.27      0.05      0.08     14322\n",
      "\n",
      "   micro avg       0.77      0.77      0.77     66446\n",
      "   macro avg       0.53      0.51      0.47     66446\n",
      "weighted avg       0.68      0.77      0.70     66446\n",
      "\n"
     ]
    }
   ],
   "source": [
    "print(classification_report(y_test_m15, rfcm15.predict(x_test_m15)))"
   ]
  },
  {
   "cell_type": "markdown",
   "metadata": {},
   "source": [
    "## Model Stacking - Combine all the models by stacking their probabilities"
   ]
  },
  {
   "cell_type": "code",
   "execution_count": 41,
   "metadata": {},
   "outputs": [],
   "source": [
    "df_proba_m1 = pd.DataFrame()\n",
    "df_proba_m1['y_test'] = y_test\n",
    "df_proba_m1['y_proba1'] = y_pred_m11[:,1]\n",
    "df_proba_m1['y_proba2'] = y_pred_m12[:,1]\n",
    "df_proba_m1['y_proba3'] = y_pred_m13[:,1]\n",
    "df_proba_m1['y_proba4'] = y_pred_m14[:,1]\n",
    "df_proba_m1['y_proba5'] = y_pred_m15[:,1]"
   ]
  },
  {
   "cell_type": "code",
   "execution_count": 42,
   "metadata": {},
   "outputs": [
    {
     "data": {
      "text/html": [
       "<div>\n",
       "<style scoped>\n",
       "    .dataframe tbody tr th:only-of-type {\n",
       "        vertical-align: middle;\n",
       "    }\n",
       "\n",
       "    .dataframe tbody tr th {\n",
       "        vertical-align: top;\n",
       "    }\n",
       "\n",
       "    .dataframe thead th {\n",
       "        text-align: right;\n",
       "    }\n",
       "</style>\n",
       "<table border=\"1\" class=\"dataframe\">\n",
       "  <thead>\n",
       "    <tr style=\"text-align: right;\">\n",
       "      <th></th>\n",
       "      <th>y_test</th>\n",
       "      <th>y_proba1</th>\n",
       "      <th>y_proba2</th>\n",
       "      <th>y_proba3</th>\n",
       "      <th>y_proba4</th>\n",
       "      <th>y_proba5</th>\n",
       "    </tr>\n",
       "  </thead>\n",
       "  <tbody>\n",
       "    <tr>\n",
       "      <th>count</th>\n",
       "      <td>66446.000000</td>\n",
       "      <td>66446.000000</td>\n",
       "      <td>66446.000000</td>\n",
       "      <td>66446.000000</td>\n",
       "      <td>66446.000000</td>\n",
       "      <td>66446.000000</td>\n",
       "    </tr>\n",
       "    <tr>\n",
       "      <th>mean</th>\n",
       "      <td>0.215543</td>\n",
       "      <td>0.214914</td>\n",
       "      <td>0.399836</td>\n",
       "      <td>0.222053</td>\n",
       "      <td>0.206645</td>\n",
       "      <td>0.224720</td>\n",
       "    </tr>\n",
       "    <tr>\n",
       "      <th>std</th>\n",
       "      <td>0.411202</td>\n",
       "      <td>0.400249</td>\n",
       "      <td>0.215417</td>\n",
       "      <td>0.069537</td>\n",
       "      <td>0.065898</td>\n",
       "      <td>0.134190</td>\n",
       "    </tr>\n",
       "    <tr>\n",
       "      <th>min</th>\n",
       "      <td>0.000000</td>\n",
       "      <td>0.000000</td>\n",
       "      <td>0.000000</td>\n",
       "      <td>0.000000</td>\n",
       "      <td>0.000000</td>\n",
       "      <td>0.000000</td>\n",
       "    </tr>\n",
       "    <tr>\n",
       "      <th>25%</th>\n",
       "      <td>0.000000</td>\n",
       "      <td>0.000000</td>\n",
       "      <td>0.256583</td>\n",
       "      <td>0.222488</td>\n",
       "      <td>0.179167</td>\n",
       "      <td>0.157825</td>\n",
       "    </tr>\n",
       "    <tr>\n",
       "      <th>50%</th>\n",
       "      <td>0.000000</td>\n",
       "      <td>0.000000</td>\n",
       "      <td>0.423122</td>\n",
       "      <td>0.229247</td>\n",
       "      <td>0.237606</td>\n",
       "      <td>0.249044</td>\n",
       "    </tr>\n",
       "    <tr>\n",
       "      <th>75%</th>\n",
       "      <td>0.000000</td>\n",
       "      <td>0.035000</td>\n",
       "      <td>0.554034</td>\n",
       "      <td>0.249882</td>\n",
       "      <td>0.237606</td>\n",
       "      <td>0.249044</td>\n",
       "    </tr>\n",
       "    <tr>\n",
       "      <th>max</th>\n",
       "      <td>1.000000</td>\n",
       "      <td>1.000000</td>\n",
       "      <td>1.000000</td>\n",
       "      <td>0.950799</td>\n",
       "      <td>0.947083</td>\n",
       "      <td>1.000000</td>\n",
       "    </tr>\n",
       "  </tbody>\n",
       "</table>\n",
       "</div>"
      ],
      "text/plain": [
       "             y_test      y_proba1      y_proba2      y_proba3      y_proba4  \\\n",
       "count  66446.000000  66446.000000  66446.000000  66446.000000  66446.000000   \n",
       "mean       0.215543      0.214914      0.399836      0.222053      0.206645   \n",
       "std        0.411202      0.400249      0.215417      0.069537      0.065898   \n",
       "min        0.000000      0.000000      0.000000      0.000000      0.000000   \n",
       "25%        0.000000      0.000000      0.256583      0.222488      0.179167   \n",
       "50%        0.000000      0.000000      0.423122      0.229247      0.237606   \n",
       "75%        0.000000      0.035000      0.554034      0.249882      0.237606   \n",
       "max        1.000000      1.000000      1.000000      0.950799      0.947083   \n",
       "\n",
       "           y_proba5  \n",
       "count  66446.000000  \n",
       "mean       0.224720  \n",
       "std        0.134190  \n",
       "min        0.000000  \n",
       "25%        0.157825  \n",
       "50%        0.249044  \n",
       "75%        0.249044  \n",
       "max        1.000000  "
      ]
     },
     "execution_count": 42,
     "metadata": {},
     "output_type": "execute_result"
    }
   ],
   "source": [
    "df_proba_m1.describe()"
   ]
  },
  {
   "cell_type": "code",
   "execution_count": 43,
   "metadata": {},
   "outputs": [
    {
     "data": {
      "text/plain": [
       "((66446,), (66446,))"
      ]
     },
     "execution_count": 43,
     "metadata": {},
     "output_type": "execute_result"
    }
   ],
   "source": [
    "df_proba_m1['y_proba5'].shape, y_test.shape"
   ]
  },
  {
   "cell_type": "code",
   "execution_count": 44,
   "metadata": {},
   "outputs": [],
   "source": [
    "# Save a Copy\n",
    "df_proba_m1.to_csv('proba_m1.csv', index=False)"
   ]
  },
  {
   "cell_type": "code",
   "execution_count": 45,
   "metadata": {},
   "outputs": [],
   "source": [
    "# Save a memory copy\n",
    "df_proba_m1_copy = df_proba_m1.copy()"
   ]
  },
  {
   "cell_type": "markdown",
   "metadata": {},
   "source": [
    "### Save the Models and TFIDF"
   ]
  },
  {
   "cell_type": "code",
   "execution_count": 46,
   "metadata": {},
   "outputs": [],
   "source": [
    "pickle.dump(rfcm11, open('rfcm11.sav', 'wb'))\n",
    "pickle.dump(rfcm12, open('rfcm12.sav', 'wb'))\n",
    "pickle.dump(rfcm13, open('rfcm13.sav', 'wb'))\n",
    "pickle.dump(rfcm14, open('rfcm14.sav', 'wb'))\n",
    "pickle.dump(rfcm15, open('rfcm15.sav', 'wb'))"
   ]
  },
  {
   "cell_type": "code",
   "execution_count": 68,
   "metadata": {},
   "outputs": [],
   "source": [
    "pickle.dump(tv13, open('tv13.sav', 'wb'))\n",
    "pickle.dump(tv14, open('tv14.sav', 'wb'))\n",
    "pickle.dump(tv15, open('tv15.sav', 'wb'))"
   ]
  },
  {
   "cell_type": "markdown",
   "metadata": {},
   "source": [
    "### Save the Test Data"
   ]
  },
  {
   "cell_type": "code",
   "execution_count": 75,
   "metadata": {},
   "outputs": [],
   "source": [
    "df_test_m11 = df_test"
   ]
  },
  {
   "cell_type": "code",
   "execution_count": 76,
   "metadata": {},
   "outputs": [],
   "source": [
    "df_test_m11.to_csv('df_test_m11.csv', index=True)\n",
    "df_test_m12.to_csv('df_test_m12.csv', index=True)"
   ]
  },
  {
   "cell_type": "markdown",
   "metadata": {},
   "source": [
    "### Load the Models and TFIDF"
   ]
  },
  {
   "cell_type": "code",
   "execution_count": null,
   "metadata": {
    "scrolled": true
   },
   "outputs": [],
   "source": [
    "rfcm11 = pickle.load(open('rfcm11.sav', 'rb'))\n",
    "rfcm12 = pickle.load(open('rfcm12.sav', 'rb'))\n",
    "rfcm13 = pickle.load(open('rfcm13.sav', 'rb'))\n",
    "rfcm14 = pickle.load(open('rfcm14.sav', 'rb'))\n",
    "rfcm15 = pickle.load(open('rfcm15.sav', 'rb'))\n",
    "\n",
    "tv13 = pickle.load(open('tv13.sav', 'rb'))\n",
    "tv14 = pickle.load(open('tv14.sav', 'rb'))\n",
    "tv15 = pickle.load(open('tv15.sav', 'rb'))"
   ]
  },
  {
   "cell_type": "markdown",
   "metadata": {},
   "source": [
    "### Average Proba"
   ]
  },
  {
   "cell_type": "code",
   "execution_count": 47,
   "metadata": {},
   "outputs": [],
   "source": [
    "df_proba_m1_copy['y_proba_avg'] = df_proba_m1_copy.apply('mean', axis=1)\n",
    "df_proba_m1_copy['y_proba_avg_pred'] = np.where(df_proba_m1_copy['y_proba_avg'] >= 0.5, 1, 0)"
   ]
  },
  {
   "cell_type": "code",
   "execution_count": 48,
   "metadata": {},
   "outputs": [
    {
     "data": {
      "text/plain": [
       "array([[10071,  4251],\n",
       "       [    0, 52124]], dtype=int64)"
      ]
     },
     "execution_count": 48,
     "metadata": {},
     "output_type": "execute_result"
    }
   ],
   "source": [
    "confusion_matrix(y_test, df_proba_m1_copy['y_proba_avg_pred'], labels=[1,0])"
   ]
  },
  {
   "cell_type": "code",
   "execution_count": 49,
   "metadata": {},
   "outputs": [
    {
     "data": {
      "text/plain": [
       "0.936023236914186"
      ]
     },
     "execution_count": 49,
     "metadata": {},
     "output_type": "execute_result"
    }
   ],
   "source": [
    "accuracy_score(y_test, df_proba_m1_copy['y_proba_avg_pred'])"
   ]
  },
  {
   "cell_type": "code",
   "execution_count": 50,
   "metadata": {},
   "outputs": [
    {
     "name": "stdout",
     "output_type": "stream",
     "text": [
      "              precision    recall  f1-score   support\n",
      "\n",
      "           0       0.92      1.00      0.96     52124\n",
      "           1       1.00      0.70      0.83     14322\n",
      "\n",
      "   micro avg       0.94      0.94      0.94     66446\n",
      "   macro avg       0.96      0.85      0.89     66446\n",
      "weighted avg       0.94      0.94      0.93     66446\n",
      "\n"
     ]
    }
   ],
   "source": [
    "print(classification_report(df_proba_m1_copy['y_test'], df_proba_m1_copy['y_proba_avg_pred']))"
   ]
  },
  {
   "cell_type": "markdown",
   "metadata": {},
   "source": [
    "### Bayes Theorem (Conflated Probabilities) - FINAL"
   ]
  },
  {
   "cell_type": "code",
   "execution_count": 51,
   "metadata": {},
   "outputs": [],
   "source": [
    "df_proba_m1_copy['y_proba_conft'] = df_proba_m1_copy['y_proba1']*df_proba_m1_copy['y_proba2']*df_proba_m1_copy['y_proba3']*df_proba_m1_copy['y_proba4']*df_proba_m1_copy['y_proba5']\n",
    "df_proba_m1_copy['y_proba_confb'] = (1-df_proba_m1_copy['y_proba1'])*(1-df_proba_m1_copy['y_proba2'])*(1-df_proba_m1_copy['y_proba3'])*(1-df_proba_m1_copy['y_proba4'])*(1-df_proba_m1_copy['y_proba5'])\n",
    "df_proba_m1_copy['y_proba_confa'] = df_proba_m1_copy['y_proba_conft'] / (df_proba_m1_copy['y_proba_conft'] + df_proba_m1_copy['y_proba_confb'])\n",
    "\n",
    "df_proba_m1_copy['y_proba_confa_pred'] = np.where(df_proba_m1_copy['y_proba_confa'] >= 0.5, 1, 0)"
   ]
  },
  {
   "cell_type": "code",
   "execution_count": 52,
   "metadata": {},
   "outputs": [
    {
     "name": "stdout",
     "output_type": "stream",
     "text": [
      "[[52116     8]\n",
      " [ 3714 10608]]\n"
     ]
    }
   ],
   "source": [
    "print(confusion_matrix(y_test, df_proba_m1_copy['y_proba_confa_pred']))"
   ]
  },
  {
   "cell_type": "code",
   "execution_count": 55,
   "metadata": {},
   "outputs": [
    {
     "data": {
      "text/plain": [
       "0.9439845889895554"
      ]
     },
     "execution_count": 55,
     "metadata": {},
     "output_type": "execute_result"
    }
   ],
   "source": [
    "accuracy_score(y_test, df_proba_m1_copy['y_proba_confa_pred'])"
   ]
  },
  {
   "cell_type": "code",
   "execution_count": 56,
   "metadata": {},
   "outputs": [
    {
     "name": "stdout",
     "output_type": "stream",
     "text": [
      "              precision    recall  f1-score   support\n",
      "\n",
      "           0       0.93      1.00      0.97     52124\n",
      "           1       1.00      0.74      0.85     14322\n",
      "\n",
      "   micro avg       0.94      0.94      0.94     66446\n",
      "   macro avg       0.97      0.87      0.91     66446\n",
      "weighted avg       0.95      0.94      0.94     66446\n",
      "\n"
     ]
    }
   ],
   "source": [
    "print(classification_report(df_proba_m1_copy['y_test'], df_proba_m1_copy['y_proba_confa_pred']))"
   ]
  },
  {
   "cell_type": "code",
   "execution_count": null,
   "metadata": {},
   "outputs": [],
   "source": []
  },
  {
   "cell_type": "code",
   "execution_count": null,
   "metadata": {},
   "outputs": [],
   "source": [
    "df_test_copy = df_test.copy()\n",
    "df_test_copy['loan_status'] = y_test\n",
    "df_test_copy['loan_status_pred'] = df_proba_m1_copy['y_proba_confa_pred']"
   ]
  },
  {
   "cell_type": "code",
   "execution_count": null,
   "metadata": {},
   "outputs": [],
   "source": [
    "c1 = df_test_copy['loan_status'] == 1\n",
    "c2 = df_test_copy['loan_status'] != df_test_copy['loan_status_pred']\n",
    "df_f1_mispred = df_test_copy[c1 & c2]\n",
    "df_f1_mispred.shape"
   ]
  },
  {
   "cell_type": "code",
   "execution_count": null,
   "metadata": {},
   "outputs": [],
   "source": [
    "df_test_copy['loan_status'].value_counts()"
   ]
  },
  {
   "cell_type": "code",
   "execution_count": null,
   "metadata": {},
   "outputs": [],
   "source": [
    "df_test_copy['loan_status_pred'].value_counts(dropna=False)"
   ]
  },
  {
   "cell_type": "code",
   "execution_count": null,
   "metadata": {},
   "outputs": [],
   "source": [
    "df_test_copy.shape"
   ]
  },
  {
   "cell_type": "code",
   "execution_count": null,
   "metadata": {},
   "outputs": [],
   "source": [
    "# Check how much money is gained or lost by comparing the amount loaned vs amount received\n",
    "plt.figure(figsize=(15,7))\n",
    "ax1 = plt.gca()\n",
    "x_loan_amnt = np.array([df_test_copy['total_pymnt'].T,\n",
    "                     df_test_copy['loan_amnt'].T])\n",
    "ax1.hist(x_loan_amnt, 15, density=False, log=False, histtype='bar')\n",
    "ax1.set_title('Total Payment Received vs Loan Amount')\n",
    "ax1.legend(['Total Payment Received', 'Loan Amount'])\n",
    "\n",
    "ax1.set_xlabel(ax1.get_xlabel(), fontsize=15)\n",
    "ax1.set_ylabel(ax1.get_ylabel(), fontsize=15)\n",
    "ax1.set_title(ax1.get_title(), fontsize=20)"
   ]
  }
 ],
 "metadata": {
  "kernelspec": {
   "display_name": "Python 3",
   "language": "python",
   "name": "python3"
  },
  "language_info": {
   "codemirror_mode": {
    "name": "ipython",
    "version": 3
   },
   "file_extension": ".py",
   "mimetype": "text/x-python",
   "name": "python",
   "nbconvert_exporter": "python",
   "pygments_lexer": "ipython3",
   "version": "3.6.6"
  }
 },
 "nbformat": 4,
 "nbformat_minor": 2
}
