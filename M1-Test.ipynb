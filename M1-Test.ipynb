{
 "cells": [
  {
   "cell_type": "code",
   "execution_count": 1,
   "metadata": {},
   "outputs": [],
   "source": [
    "import pandas as pd\n",
    "import numpy as np\n",
    "import matplotlib.pyplot as plt\n",
    "import seaborn as sns\n",
    "import re\n",
    "import pickle\n",
    "\n",
    "from imblearn.under_sampling import TomekLinks\n",
    "from imblearn.over_sampling import ADASYN, SMOTE\n",
    "\n",
    "from sklearn.model_selection import train_test_split\n",
    "from sklearn.feature_extraction.text import TfidfVectorizer\n",
    "from sklearn.ensemble import RandomForestClassifier\n",
    "from sklearn.metrics import accuracy_score, precision_score, recall_score, confusion_matrix, classification_report"
   ]
  },
  {
   "cell_type": "markdown",
   "metadata": {},
   "source": [
    "### Load the Saved Test Data"
   ]
  },
  {
   "cell_type": "code",
   "execution_count": 2,
   "metadata": {},
   "outputs": [],
   "source": [
    "df_test = pd.read_csv('df_test_m11.csv', index_col=0)\n",
    "df_test_pd = pd.read_csv('df_test_m12.csv', index_col=0)"
   ]
  },
  {
   "cell_type": "markdown",
   "metadata": {},
   "source": [
    "### Predefined Columns"
   ]
  },
  {
   "cell_type": "code",
   "execution_count": 3,
   "metadata": {},
   "outputs": [],
   "source": [
    "# Split the Features into Numerical and Non Numerical for charting purposes\n",
    "features_numerical = list(df_test.dtypes[df_test.dtypes != 'object'].index)\n",
    "\n",
    "features_nonnumerc = list(df_test.dtypes[df_test.dtypes == 'object'].index)\n",
    "features_nonnumerc.remove('title')\n",
    "features_nonnumerc.remove('emp_title')\n",
    "features_nonnumerc.remove('desc')\n",
    "features_nonnumerc.remove('loan_status')\n",
    "\n",
    "features_nlp = ['title', 'emp_title', 'desc']"
   ]
  },
  {
   "cell_type": "code",
   "execution_count": 4,
   "metadata": {},
   "outputs": [],
   "source": [
    "# Independent Variables\n",
    "x_test_m11 = df_test[features_numerical]\n",
    "x_test_m12 = df_test_pd\n",
    "x_test_m13 = df_test['title']\n",
    "x_test_m14 = df_test['desc']\n",
    "x_test_m15 = df_test['emp_title']\n",
    "\n",
    "# Target Variable\n",
    "y_test = df_test[\"loan_status\"]"
   ]
  },
  {
   "cell_type": "markdown",
   "metadata": {},
   "source": [
    "### Sample 5 Test Data"
   ]
  },
  {
   "cell_type": "code",
   "execution_count": 5,
   "metadata": {},
   "outputs": [],
   "source": [
    "sampled_records = [28384, 242322, 94760]\n",
    "# sampled_records.extend(df_test[df_test['loan_status']=='Fully Paid'].sample(3).index.values)\n",
    "# sampled_records.extend(df_test[df_test['loan_status']=='Late (31-120 days)'].sample(3).index.values)\n",
    "# sampled_records.extend(df_test[df_test['loan_status']=='Charged Off'].sample(3).index.values)\n",
    "# sampled_records.extend(df_test[df_test['loan_status']=='Default'].sample(3).index.values)"
   ]
  },
  {
   "cell_type": "code",
   "execution_count": 6,
   "metadata": {},
   "outputs": [
    {
     "data": {
      "text/plain": [
       "28384     Charged Off\n",
       "242322     Fully Paid\n",
       "94760     Charged Off\n",
       "Name: loan_status, dtype: object"
      ]
     },
     "execution_count": 6,
     "metadata": {},
     "output_type": "execute_result"
    }
   ],
   "source": [
    "df_test[df_test.index.isin(sampled_records)]['loan_status']"
   ]
  },
  {
   "cell_type": "code",
   "execution_count": 7,
   "metadata": {},
   "outputs": [],
   "source": [
    "x_test_m11 = x_test_m11[x_test_m11.index.isin(sampled_records)]\n",
    "x_test_m12 = x_test_m12[x_test_m12.index.isin(sampled_records)]\n",
    "x_test_m13 = x_test_m13[x_test_m13.index.isin(sampled_records)]\n",
    "x_test_m14 = x_test_m14[x_test_m14.index.isin(sampled_records)]\n",
    "x_test_m15 = x_test_m15[x_test_m15.index.isin(sampled_records)]\n",
    "\n",
    "y_test = y_test[y_test.index.isin(sampled_records)]\n",
    "y_test = np.where(y_test == 'Fully Paid', 0, 1)"
   ]
  },
  {
   "cell_type": "code",
   "execution_count": 8,
   "metadata": {},
   "outputs": [
    {
     "data": {
      "text/html": [
       "<div>\n",
       "<style scoped>\n",
       "    .dataframe tbody tr th:only-of-type {\n",
       "        vertical-align: middle;\n",
       "    }\n",
       "\n",
       "    .dataframe tbody tr th {\n",
       "        vertical-align: top;\n",
       "    }\n",
       "\n",
       "    .dataframe thead th {\n",
       "        text-align: right;\n",
       "    }\n",
       "</style>\n",
       "<table border=\"1\" class=\"dataframe\">\n",
       "  <thead>\n",
       "    <tr style=\"text-align: right;\">\n",
       "      <th></th>\n",
       "      <th>loan_amnt</th>\n",
       "      <th>funded_amnt</th>\n",
       "      <th>funded_amnt_inv</th>\n",
       "      <th>int_rate</th>\n",
       "      <th>installment</th>\n",
       "      <th>annual_inc</th>\n",
       "      <th>dti</th>\n",
       "      <th>delinq_2yrs</th>\n",
       "      <th>inq_last_6mths</th>\n",
       "      <th>mths_since_last_delinq</th>\n",
       "      <th>...</th>\n",
       "      <th>total_bal_il</th>\n",
       "      <th>il_util</th>\n",
       "      <th>open_rv_12m</th>\n",
       "      <th>open_rv_24m</th>\n",
       "      <th>max_bal_bc</th>\n",
       "      <th>all_util</th>\n",
       "      <th>total_rev_hi_lim</th>\n",
       "      <th>inq_fi</th>\n",
       "      <th>total_cu_tl</th>\n",
       "      <th>inq_last_12m</th>\n",
       "    </tr>\n",
       "  </thead>\n",
       "  <tbody>\n",
       "    <tr>\n",
       "      <th>28384</th>\n",
       "      <td>3600.0</td>\n",
       "      <td>3600.0</td>\n",
       "      <td>3178.61</td>\n",
       "      <td>14.59</td>\n",
       "      <td>124.08</td>\n",
       "      <td>12996.0</td>\n",
       "      <td>8.13</td>\n",
       "      <td>1.0</td>\n",
       "      <td>0.0</td>\n",
       "      <td>23.0</td>\n",
       "      <td>...</td>\n",
       "      <td>0.0</td>\n",
       "      <td>0.0</td>\n",
       "      <td>0.0</td>\n",
       "      <td>0.0</td>\n",
       "      <td>0.0</td>\n",
       "      <td>0.0</td>\n",
       "      <td>0.0</td>\n",
       "      <td>0.0</td>\n",
       "      <td>0.0</td>\n",
       "      <td>0.0</td>\n",
       "    </tr>\n",
       "    <tr>\n",
       "      <th>242322</th>\n",
       "      <td>14400.0</td>\n",
       "      <td>14400.0</td>\n",
       "      <td>14350.00</td>\n",
       "      <td>19.99</td>\n",
       "      <td>381.44</td>\n",
       "      <td>50000.0</td>\n",
       "      <td>27.17</td>\n",
       "      <td>1.0</td>\n",
       "      <td>0.0</td>\n",
       "      <td>17.0</td>\n",
       "      <td>...</td>\n",
       "      <td>0.0</td>\n",
       "      <td>0.0</td>\n",
       "      <td>0.0</td>\n",
       "      <td>0.0</td>\n",
       "      <td>0.0</td>\n",
       "      <td>0.0</td>\n",
       "      <td>3500.0</td>\n",
       "      <td>0.0</td>\n",
       "      <td>0.0</td>\n",
       "      <td>0.0</td>\n",
       "    </tr>\n",
       "    <tr>\n",
       "      <th>94760</th>\n",
       "      <td>7000.0</td>\n",
       "      <td>7000.0</td>\n",
       "      <td>7000.00</td>\n",
       "      <td>16.29</td>\n",
       "      <td>247.11</td>\n",
       "      <td>36000.0</td>\n",
       "      <td>23.03</td>\n",
       "      <td>1.0</td>\n",
       "      <td>2.0</td>\n",
       "      <td>8.0</td>\n",
       "      <td>...</td>\n",
       "      <td>0.0</td>\n",
       "      <td>0.0</td>\n",
       "      <td>0.0</td>\n",
       "      <td>0.0</td>\n",
       "      <td>0.0</td>\n",
       "      <td>0.0</td>\n",
       "      <td>9700.0</td>\n",
       "      <td>0.0</td>\n",
       "      <td>0.0</td>\n",
       "      <td>0.0</td>\n",
       "    </tr>\n",
       "  </tbody>\n",
       "</table>\n",
       "<p>3 rows × 45 columns</p>\n",
       "</div>"
      ],
      "text/plain": [
       "        loan_amnt  funded_amnt  funded_amnt_inv  int_rate  installment  \\\n",
       "28384      3600.0       3600.0          3178.61     14.59       124.08   \n",
       "242322    14400.0      14400.0         14350.00     19.99       381.44   \n",
       "94760      7000.0       7000.0          7000.00     16.29       247.11   \n",
       "\n",
       "        annual_inc    dti  delinq_2yrs  inq_last_6mths  \\\n",
       "28384      12996.0   8.13          1.0             0.0   \n",
       "242322     50000.0  27.17          1.0             0.0   \n",
       "94760      36000.0  23.03          1.0             2.0   \n",
       "\n",
       "        mths_since_last_delinq      ...       total_bal_il  il_util  \\\n",
       "28384                     23.0      ...                0.0      0.0   \n",
       "242322                    17.0      ...                0.0      0.0   \n",
       "94760                      8.0      ...                0.0      0.0   \n",
       "\n",
       "        open_rv_12m  open_rv_24m  max_bal_bc  all_util  total_rev_hi_lim  \\\n",
       "28384           0.0          0.0         0.0       0.0               0.0   \n",
       "242322          0.0          0.0         0.0       0.0            3500.0   \n",
       "94760           0.0          0.0         0.0       0.0            9700.0   \n",
       "\n",
       "        inq_fi  total_cu_tl  inq_last_12m  \n",
       "28384      0.0          0.0           0.0  \n",
       "242322     0.0          0.0           0.0  \n",
       "94760      0.0          0.0           0.0  \n",
       "\n",
       "[3 rows x 45 columns]"
      ]
     },
     "execution_count": 8,
     "metadata": {},
     "output_type": "execute_result"
    }
   ],
   "source": [
    "x_test_m11"
   ]
  },
  {
   "cell_type": "code",
   "execution_count": 9,
   "metadata": {},
   "outputs": [
    {
     "data": {
      "text/html": [
       "<div>\n",
       "<style scoped>\n",
       "    .dataframe tbody tr th:only-of-type {\n",
       "        vertical-align: middle;\n",
       "    }\n",
       "\n",
       "    .dataframe tbody tr th {\n",
       "        vertical-align: top;\n",
       "    }\n",
       "\n",
       "    .dataframe thead th {\n",
       "        text-align: right;\n",
       "    }\n",
       "</style>\n",
       "<table border=\"1\" class=\"dataframe\">\n",
       "  <thead>\n",
       "    <tr style=\"text-align: right;\">\n",
       "      <th></th>\n",
       "      <th>term_ 36 months</th>\n",
       "      <th>term_ 60 months</th>\n",
       "      <th>grade_A</th>\n",
       "      <th>grade_B</th>\n",
       "      <th>grade_C</th>\n",
       "      <th>grade_D</th>\n",
       "      <th>grade_E</th>\n",
       "      <th>grade_F</th>\n",
       "      <th>grade_G</th>\n",
       "      <th>sub_grade_A1</th>\n",
       "      <th>...</th>\n",
       "      <th>purpose_major_purchase</th>\n",
       "      <th>purpose_medical</th>\n",
       "      <th>purpose_moving</th>\n",
       "      <th>purpose_other</th>\n",
       "      <th>purpose_renewable_energy</th>\n",
       "      <th>purpose_small_business</th>\n",
       "      <th>purpose_vacation</th>\n",
       "      <th>purpose_wedding</th>\n",
       "      <th>initial_list_status_f</th>\n",
       "      <th>initial_list_status_w</th>\n",
       "    </tr>\n",
       "  </thead>\n",
       "  <tbody>\n",
       "    <tr>\n",
       "      <th>28384</th>\n",
       "      <td>1</td>\n",
       "      <td>0</td>\n",
       "      <td>0</td>\n",
       "      <td>0</td>\n",
       "      <td>0</td>\n",
       "      <td>1</td>\n",
       "      <td>0</td>\n",
       "      <td>0</td>\n",
       "      <td>0</td>\n",
       "      <td>0</td>\n",
       "      <td>...</td>\n",
       "      <td>1</td>\n",
       "      <td>0</td>\n",
       "      <td>0</td>\n",
       "      <td>0</td>\n",
       "      <td>0</td>\n",
       "      <td>0</td>\n",
       "      <td>0</td>\n",
       "      <td>0</td>\n",
       "      <td>1</td>\n",
       "      <td>0</td>\n",
       "    </tr>\n",
       "    <tr>\n",
       "      <th>242322</th>\n",
       "      <td>0</td>\n",
       "      <td>1</td>\n",
       "      <td>0</td>\n",
       "      <td>0</td>\n",
       "      <td>0</td>\n",
       "      <td>0</td>\n",
       "      <td>1</td>\n",
       "      <td>0</td>\n",
       "      <td>0</td>\n",
       "      <td>0</td>\n",
       "      <td>...</td>\n",
       "      <td>0</td>\n",
       "      <td>0</td>\n",
       "      <td>0</td>\n",
       "      <td>0</td>\n",
       "      <td>0</td>\n",
       "      <td>0</td>\n",
       "      <td>0</td>\n",
       "      <td>0</td>\n",
       "      <td>1</td>\n",
       "      <td>0</td>\n",
       "    </tr>\n",
       "    <tr>\n",
       "      <th>94760</th>\n",
       "      <td>1</td>\n",
       "      <td>0</td>\n",
       "      <td>0</td>\n",
       "      <td>0</td>\n",
       "      <td>1</td>\n",
       "      <td>0</td>\n",
       "      <td>0</td>\n",
       "      <td>0</td>\n",
       "      <td>0</td>\n",
       "      <td>0</td>\n",
       "      <td>...</td>\n",
       "      <td>0</td>\n",
       "      <td>0</td>\n",
       "      <td>0</td>\n",
       "      <td>0</td>\n",
       "      <td>0</td>\n",
       "      <td>0</td>\n",
       "      <td>0</td>\n",
       "      <td>0</td>\n",
       "      <td>1</td>\n",
       "      <td>0</td>\n",
       "    </tr>\n",
       "  </tbody>\n",
       "</table>\n",
       "<p>3 rows × 80 columns</p>\n",
       "</div>"
      ],
      "text/plain": [
       "        term_ 36 months  term_ 60 months  grade_A  grade_B  grade_C  grade_D  \\\n",
       "28384                 1                0        0        0        0        1   \n",
       "242322                0                1        0        0        0        0   \n",
       "94760                 1                0        0        0        1        0   \n",
       "\n",
       "        grade_E  grade_F  grade_G  sub_grade_A1          ...            \\\n",
       "28384         0        0        0             0          ...             \n",
       "242322        1        0        0             0          ...             \n",
       "94760         0        0        0             0          ...             \n",
       "\n",
       "        purpose_major_purchase  purpose_medical  purpose_moving  \\\n",
       "28384                        1                0               0   \n",
       "242322                       0                0               0   \n",
       "94760                        0                0               0   \n",
       "\n",
       "        purpose_other  purpose_renewable_energy  purpose_small_business  \\\n",
       "28384               0                         0                       0   \n",
       "242322              0                         0                       0   \n",
       "94760               0                         0                       0   \n",
       "\n",
       "        purpose_vacation  purpose_wedding  initial_list_status_f  \\\n",
       "28384                  0                0                      1   \n",
       "242322                 0                0                      1   \n",
       "94760                  0                0                      1   \n",
       "\n",
       "        initial_list_status_w  \n",
       "28384                       0  \n",
       "242322                      0  \n",
       "94760                       0  \n",
       "\n",
       "[3 rows x 80 columns]"
      ]
     },
     "execution_count": 9,
     "metadata": {},
     "output_type": "execute_result"
    }
   ],
   "source": [
    "x_test_m12"
   ]
  },
  {
   "cell_type": "code",
   "execution_count": 10,
   "metadata": {},
   "outputs": [
    {
     "data": {
      "text/plain": [
       "28384            Matt Rohwer\n",
       "242322    Debt consolidation\n",
       "94760                my loan\n",
       "Name: title, dtype: object"
      ]
     },
     "execution_count": 10,
     "metadata": {},
     "output_type": "execute_result"
    }
   ],
   "source": [
    "x_test_m13"
   ]
  },
  {
   "cell_type": "code",
   "execution_count": 11,
   "metadata": {},
   "outputs": [
    {
     "data": {
      "text/plain": [
       "28384     Not Specified\n",
       "242322    Not Specified\n",
       "94760     Not Specified\n",
       "Name: desc, dtype: object"
      ]
     },
     "execution_count": 11,
     "metadata": {},
     "output_type": "execute_result"
    }
   ],
   "source": [
    "x_test_m14"
   ]
  },
  {
   "cell_type": "code",
   "execution_count": 12,
   "metadata": {},
   "outputs": [
    {
     "data": {
      "text/plain": [
       "28384              JCPenney Corp\n",
       "242322                        Rn\n",
       "94760     Reimbursement Concepts\n",
       "Name: emp_title, dtype: object"
      ]
     },
     "execution_count": 12,
     "metadata": {},
     "output_type": "execute_result"
    }
   ],
   "source": [
    "x_test_m15"
   ]
  },
  {
   "cell_type": "markdown",
   "metadata": {},
   "source": [
    "### Load the Models and TFIDF"
   ]
  },
  {
   "cell_type": "code",
   "execution_count": 13,
   "metadata": {},
   "outputs": [],
   "source": [
    "rfcm11 = pickle.load(open('rfcm11.sav', 'rb'))\n",
    "rfcm12 = pickle.load(open('rfcm12.sav', 'rb'))\n",
    "rfcm13 = pickle.load(open('rfcm13.sav', 'rb'))\n",
    "rfcm14 = pickle.load(open('rfcm14.sav', 'rb'))\n",
    "rfcm15 = pickle.load(open('rfcm15.sav', 'rb'))\n",
    "\n",
    "tv13 = pickle.load(open('tv13.sav', 'rb'))\n",
    "tv14 = pickle.load(open('tv14.sav', 'rb'))\n",
    "tv15 = pickle.load(open('tv15.sav', 'rb'))"
   ]
  },
  {
   "cell_type": "code",
   "execution_count": 14,
   "metadata": {},
   "outputs": [],
   "source": [
    "x_test_m13 = tv13.transform(x_test_m13)\n",
    "x_test_m14 = tv14.transform(x_test_m14)\n",
    "x_test_m15 = tv15.transform(x_test_m15)"
   ]
  },
  {
   "cell_type": "markdown",
   "metadata": {},
   "source": [
    "### Run the Test Data against the Model"
   ]
  },
  {
   "cell_type": "code",
   "execution_count": 15,
   "metadata": {},
   "outputs": [],
   "source": [
    "y_pred_m11 = rfcm11.predict_proba(x_test_m11)\n",
    "y_pred_m12 = rfcm12.predict_proba(x_test_m12)\n",
    "y_pred_m13 = rfcm13.predict_proba(x_test_m13)\n",
    "y_pred_m14 = rfcm14.predict_proba(x_test_m14)\n",
    "y_pred_m15 = rfcm15.predict_proba(x_test_m15)"
   ]
  },
  {
   "cell_type": "markdown",
   "metadata": {},
   "source": [
    "### Stack the Models Together"
   ]
  },
  {
   "cell_type": "code",
   "execution_count": 16,
   "metadata": {},
   "outputs": [],
   "source": [
    "df_proba_m1 = pd.DataFrame()\n",
    "df_proba_m1['y_test'] = y_test\n",
    "df_proba_m1['y_proba1'] = y_pred_m11[:,1]\n",
    "df_proba_m1['y_proba2'] = y_pred_m12[:,1]\n",
    "df_proba_m1['y_proba3'] = y_pred_m13[:,1]\n",
    "df_proba_m1['y_proba4'] = y_pred_m14[:,1]\n",
    "df_proba_m1['y_proba5'] = y_pred_m15[:,1]"
   ]
  },
  {
   "cell_type": "markdown",
   "metadata": {},
   "source": [
    "### Calculate Final Probability"
   ]
  },
  {
   "cell_type": "code",
   "execution_count": 17,
   "metadata": {},
   "outputs": [],
   "source": [
    "df_proba_m1['y_proba_conft'] = df_proba_m1['y_proba1']*df_proba_m1['y_proba2']*df_proba_m1['y_proba3']*df_proba_m1['y_proba4']*df_proba_m1['y_proba5']\n",
    "df_proba_m1['y_proba_confb'] = (1-df_proba_m1['y_proba1'])*(1-df_proba_m1['y_proba2'])*(1-df_proba_m1['y_proba3'])*(1-df_proba_m1['y_proba4'])*(1-df_proba_m1['y_proba5'])\n",
    "df_proba_m1['y_proba_confa'] = df_proba_m1['y_proba_conft'] / (df_proba_m1['y_proba_conft'] + df_proba_m1['y_proba_confb'])"
   ]
  },
  {
   "cell_type": "code",
   "execution_count": 18,
   "metadata": {},
   "outputs": [
    {
     "data": {
      "text/plain": [
       "0    0.692256\n",
       "1    0.001119\n",
       "2    0.829062\n",
       "Name: y_proba_confa, dtype: float64"
      ]
     },
     "execution_count": 18,
     "metadata": {},
     "output_type": "execute_result"
    }
   ],
   "source": [
    "df_proba_m1['y_proba_confa']"
   ]
  },
  {
   "cell_type": "code",
   "execution_count": 19,
   "metadata": {},
   "outputs": [
    {
     "data": {
      "text/html": [
       "<div>\n",
       "<style scoped>\n",
       "    .dataframe tbody tr th:only-of-type {\n",
       "        vertical-align: middle;\n",
       "    }\n",
       "\n",
       "    .dataframe tbody tr th {\n",
       "        vertical-align: top;\n",
       "    }\n",
       "\n",
       "    .dataframe thead th {\n",
       "        text-align: right;\n",
       "    }\n",
       "</style>\n",
       "<table border=\"1\" class=\"dataframe\">\n",
       "  <thead>\n",
       "    <tr style=\"text-align: right;\">\n",
       "      <th></th>\n",
       "      <th>y_test</th>\n",
       "      <th>y_proba1</th>\n",
       "      <th>y_proba2</th>\n",
       "      <th>y_proba3</th>\n",
       "      <th>y_proba4</th>\n",
       "      <th>y_proba5</th>\n",
       "      <th>y_proba_conft</th>\n",
       "      <th>y_proba_confb</th>\n",
       "      <th>y_proba_confa</th>\n",
       "    </tr>\n",
       "  </thead>\n",
       "  <tbody>\n",
       "    <tr>\n",
       "      <th>0</th>\n",
       "      <td>1</td>\n",
       "      <td>0.995</td>\n",
       "      <td>0.274509</td>\n",
       "      <td>0.224230</td>\n",
       "      <td>0.237606</td>\n",
       "      <td>0.249044</td>\n",
       "      <td>0.003624</td>\n",
       "      <td>0.001611</td>\n",
       "      <td>0.692256</td>\n",
       "    </tr>\n",
       "    <tr>\n",
       "      <th>1</th>\n",
       "      <td>0</td>\n",
       "      <td>0.010</td>\n",
       "      <td>0.763022</td>\n",
       "      <td>0.249882</td>\n",
       "      <td>0.237606</td>\n",
       "      <td>0.249044</td>\n",
       "      <td>0.000113</td>\n",
       "      <td>0.100755</td>\n",
       "      <td>0.001119</td>\n",
       "    </tr>\n",
       "    <tr>\n",
       "      <th>2</th>\n",
       "      <td>1</td>\n",
       "      <td>0.995</td>\n",
       "      <td>0.703928</td>\n",
       "      <td>0.224230</td>\n",
       "      <td>0.237606</td>\n",
       "      <td>0.102169</td>\n",
       "      <td>0.003813</td>\n",
       "      <td>0.000786</td>\n",
       "      <td>0.829062</td>\n",
       "    </tr>\n",
       "  </tbody>\n",
       "</table>\n",
       "</div>"
      ],
      "text/plain": [
       "   y_test  y_proba1  y_proba2  y_proba3  y_proba4  y_proba5  y_proba_conft  \\\n",
       "0       1     0.995  0.274509  0.224230  0.237606  0.249044       0.003624   \n",
       "1       0     0.010  0.763022  0.249882  0.237606  0.249044       0.000113   \n",
       "2       1     0.995  0.703928  0.224230  0.237606  0.102169       0.003813   \n",
       "\n",
       "   y_proba_confb  y_proba_confa  \n",
       "0       0.001611       0.692256  \n",
       "1       0.100755       0.001119  \n",
       "2       0.000786       0.829062  "
      ]
     },
     "execution_count": 19,
     "metadata": {},
     "output_type": "execute_result"
    }
   ],
   "source": [
    "df_proba_m1"
   ]
  },
  {
   "cell_type": "code",
   "execution_count": null,
   "metadata": {},
   "outputs": [],
   "source": []
  }
 ],
 "metadata": {
  "kernelspec": {
   "display_name": "Python 3",
   "language": "python",
   "name": "python3"
  },
  "language_info": {
   "codemirror_mode": {
    "name": "ipython",
    "version": 3
   },
   "file_extension": ".py",
   "mimetype": "text/x-python",
   "name": "python",
   "nbconvert_exporter": "python",
   "pygments_lexer": "ipython3",
   "version": "3.6.6"
  }
 },
 "nbformat": 4,
 "nbformat_minor": 2
}
